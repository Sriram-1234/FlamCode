{
 "cells": [
  {
   "cell_type": "code",
   "execution_count": null,
   "metadata": {},
   "outputs": [],
   "source": []
  }
 ],
 "metadata": {
  "interpreter": {
   "hash": "71f47ab1c8983e514f90dc2ed6ab8764ac23a88de9e4d19ae12fea40f443b4df"
  },
  "kernelspec": {
   "display_name": "Python 3.9.7 64-bit ('firstenv': conda)",
   "language": "python",
   "name": "python3"
  },
  "language_info": {
   "name": "python",
   "version": "3.9.7"
  },
  "orig_nbformat": 4
 },
 "nbformat": 4,
 "nbformat_minor": 2
}
